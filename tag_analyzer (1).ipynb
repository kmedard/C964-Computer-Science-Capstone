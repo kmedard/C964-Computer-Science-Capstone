{
  "metadata": {
    "kernelspec": {
      "name": "python3",
      "display_name": "Python 3 (ipykernel)",
      "language": "python"
    },
    "language_info": {
      "name": "python",
      "version": "3.7.12",
      "mimetype": "text/x-python",
      "codemirror_mode": {
        "name": "ipython",
        "version": 3
      },
      "pygments_lexer": "ipython3",
      "nbconvert_exporter": "python",
      "file_extension": ".py"
    },
    "colab": {
      "name": "tag_analyzer.ipynb",
      "provenance": [],
      "collapsed_sections": []
    },
    "toc-autonumbering": true
  },
  "nbformat_minor": 0,
  "nbformat": 4,
  "cells": [
    {
      "cell_type": "markdown",
      "source": [
        "# **Introduction**\n",
        "This Jupyter notebook serves as a proof of concept for a view count predictor. The first sections focus on setup and data processing. At the end of the notebook, you can test the predictive model. \n",
        "\n",
        "The first step is to introduce several libraries that help with model training."
      ],
      "metadata": {
        "_uuid": "e6b90221-bc2e-4988-a080-b52682e26986",
        "_cell_guid": "f1cf0eeb-8509-4da9-82f3-f524af34b3d2",
        "id": "1Xx-bCKezNap"
      }
    },
    {
      "cell_type": "markdown",
      "source": [
        "# **Import Libraries**"
      ],
      "metadata": {
        "_uuid": "b643d122-ebe1-44cc-9cc7-1cdbbac8e049",
        "_cell_guid": "413d6af5-81fc-4179-850b-d1394439f33d",
        "id": "IdsfWoVJzNat"
      }
    },
    {
      "cell_type": "code",
      "source": [
        "!pip install plotly\n",
        "!pip install wordcloud\n",
        "!pip install pillow\n",
        "!pip install  matplotlib\n",
        "!pip install --upgrade pip\n",
        "!pip install tensorflow\n",
        "!pip install tensorflow_addons"
      ],
      "metadata": {
        "id": "EECry6q0-3q8",
        "tags": [],
        "trusted": true
      },
      "execution_count": null,
      "outputs": []
    },
    {
      "cell_type": "code",
      "source": [
        "import numpy as np\n",
        "import pandas as pd\n",
        "import plotly.express as px\n",
        "import plotly.graph_objects as go\n",
        "from tqdm import tqdm\n",
        "from ast import literal_eval\n",
        "from sklearn.preprocessing import MultiLabelBinarizer\n",
        "from sklearn.model_selection import train_test_split\n",
        "from sklearn.decomposition import PCA\n",
        "from sklearn.metrics import r2_score\n",
        "import tensorflow as tf\n",
        "import tensorflow_addons as tfa\n",
        "from wordcloud import WordCloud\n",
        "from PIL import Image\n",
        "import matplotlib.pyplot as plt\n",
        "import re\n",
        "import ipywidgets as widgets"
      ],
      "metadata": {
        "_uuid": "b73307a1-c6b6-46ff-a065-f50674cf2109",
        "_cell_guid": "1f989750-115d-4769-8efa-3f92bf1e24eb",
        "id": "wxgJcSaqOyV4",
        "jupyter": {
          "outputs_hidden": false
        },
        "trusted": true
      },
      "execution_count": null,
      "outputs": []
    },
    {
      "cell_type": "code",
      "source": [
        "!jupyter lab build\n",
        "\n"
      ],
      "metadata": {
        "trusted": true,
        "id": "QQNJ5A6CdmuF"
      },
      "execution_count": null,
      "outputs": []
    },
    {
      "cell_type": "markdown",
      "source": [
        "# **Import YouTube trending video dataset**\n",
        "##  \"Collected or available datasets\"\n",
        "Retrives records from csv file and puts them into data frame\n",
        "Only retrieves categoryID, view_count, and tags"
      ],
      "metadata": {
        "_uuid": "8596a572-9aaa-40e9-b0ba-5b2e55c0819c",
        "_cell_guid": "230ad450-f59c-479c-970c-774510df8371",
        "id": "VtUXwbD3zNav"
      }
    },
    {
      "cell_type": "code",
      "source": [
        "video_df = pd.read_csv('US_youtube_trending_data_lite.csv', usecols=['categoryId', 'view_count', 'tags'],engine='python', on_bad_lines='skip', header=0)\n",
        "train_df = video_df"
      ],
      "metadata": {
        "_uuid": "f62fe54b-8afe-472f-a0b5-46a12fdd9b56",
        "_cell_guid": "85bfa9dc-ce85-4dbe-b383-3909c2925f43",
        "id": "VKQU-RC0cyp8",
        "jupyter": {
          "outputs_hidden": false
        },
        "trusted": true
      },
      "execution_count": null,
      "outputs": []
    },
    {
      "cell_type": "markdown",
      "source": [
        "# **Featurizing, Parsing, Cleaning, and Wrangling Datasets**"
      ],
      "metadata": {
        "_uuid": "feac52d4-1d77-4a96-8271-635e16350228",
        "_cell_guid": "c7c864e9-d2be-41b1-a4c3-a3c42a3f0043",
        "id": "TBIctOYMzNav"
      }
    },
    {
      "cell_type": "code",
      "source": [
        "# remove empty and/or incomplete rows\n",
        "values = ['[None]',\"[None]\",'None']\n",
        "train_df = train_df[train_df.tags.isin(values) == False]\n",
        "train_df.dropna()\n",
        "train_df = train_df.drop(train_df[train_df['tags'] == '[]'].index, axis=0).reset_index(drop=True)\n",
        "train_df"
      ],
      "metadata": {
        "_uuid": "eca2471f-6a51-4f6f-9a76-284524955cb5",
        "_cell_guid": "19dfc320-17a3-4c38-adca-5ffe103c0f21",
        "id": "A3C8gGaSgNrM",
        "jupyter": {
          "outputs_hidden": false
        },
        "trusted": true
      },
      "execution_count": null,
      "outputs": []
    },
    {
      "cell_type": "code",
      "source": [
        "# Remove non alphanumeric characters that are also not \"|\"\n",
        "# Turn tags string into list of string items\n",
        "train_df['tags'] = train_df['tags'].apply(lambda word_list: re.sub(r\"[^a-zA-Z0-9|]\", \"\",word_list.lower().replace(\" \", \"\")).split('|'))\n",
        "train_df"
      ],
      "metadata": {
        "_uuid": "21903558-cde4-4ad9-b226-8be5bd2ee00e",
        "_cell_guid": "64c55680-b33b-4a79-b48f-e2378cc0c54f",
        "id": "9Dq_IhK8ghsU",
        "jupyter": {
          "outputs_hidden": false
        },
        "trusted": true
      },
      "execution_count": null,
      "outputs": []
    },
    {
      "cell_type": "markdown",
      "source": [
        "# **Building Variables for Model**"
      ],
      "metadata": {
        "_uuid": "a9580c09-ebda-45c5-943e-8642b4d00ca1",
        "_cell_guid": "93042d9d-3a79-4b1e-a311-7378a0b641b2",
        "id": "m9Yz3XzFzNax"
      }
    },
    {
      "cell_type": "code",
      "source": [
        "y = train_df.loc[:, 'view_count']\n",
        "X_raw = train_df.loc[:, 'tags']"
      ],
      "metadata": {
        "_uuid": "517d441f-e480-4570-ace6-7eee6ea40426",
        "_cell_guid": "a1342308-92b6-46cf-a5c7-ef7bcf59f863",
        "id": "GDDeauaKKwPb",
        "jupyter": {
          "outputs_hidden": false
        },
        "trusted": true
      },
      "execution_count": null,
      "outputs": []
    },
    {
      "cell_type": "code",
      "source": [
        "X_raw"
      ],
      "metadata": {
        "_uuid": "d8c905e6-ada7-452d-bfa6-45f4ac1799fa",
        "_cell_guid": "14a175c4-bb53-4531-9ba2-a866957812d8",
        "jupyter": {
          "outputs_hidden": false
        },
        "id": "kq8pvPpIzNay",
        "trusted": true
      },
      "execution_count": null,
      "outputs": []
    },
    {
      "cell_type": "code",
      "source": [
        "word_counts = {}\n",
        "stopwords = ['[None]', '',' ','[none]']\n",
        "for word_list in X_raw:\n",
        "    for word in word_list:\n",
        "        if word not in stopwords:\n",
        "            if word in word_counts:\n",
        "                word_counts[word] += 1\n",
        "            else:\n",
        "                word_counts[word] = 1"
      ],
      "metadata": {
        "_uuid": "98d68a84-f0fb-4140-bfe9-0dd785541a58",
        "_cell_guid": "93f36cc1-6ce5-43a1-ae5c-78980e07b971",
        "id": "UQfC8yzaLJIa",
        "jupyter": {
          "outputs_hidden": false
        },
        "trusted": true
      },
      "execution_count": null,
      "outputs": []
    },
    {
      "cell_type": "code",
      "source": [
        "word_counts_sorted = {key: value for key, value in sorted(word_counts.items(), key=lambda item: item[1], reverse=True)}\n",
        "#word_counts_sorted"
      ],
      "metadata": {
        "_uuid": "e3958e69-4122-4823-a8b0-a7886cf53797",
        "_cell_guid": "04213fe0-54d4-467f-983f-68d0412cdf3f",
        "id": "b8FNCh5sLb3i",
        "jupyter": {
          "outputs_hidden": false
        },
        "trusted": true
      },
      "execution_count": null,
      "outputs": []
    },
    {
      "cell_type": "code",
      "source": [
        "vocabulary = list(word_counts_sorted)[:500]\n",
        "for word_list in X_raw:\n",
        "    word_list[:] = [word for word in word_list if word in vocabulary]\n",
        "X_raw"
      ],
      "metadata": {
        "_uuid": "8be68c8b-fa9b-40b0-aab8-f6f62d606960",
        "_cell_guid": "1775aea5-44da-49d0-bac1-1fd72eee5f42",
        "id": "21d3Kx4bMDW8",
        "jupyter": {
          "outputs_hidden": false
        },
        "trusted": true
      },
      "execution_count": null,
      "outputs": []
    },
    {
      "cell_type": "code",
      "source": [
        "null_indices = set()\n",
        "\n",
        "for i, words in tqdm(enumerate(X_raw)):\n",
        "    if not words:\n",
        "        null_indices.add(i)\n",
        "X_raw = X_raw.drop(null_indices, axis=0).reset_index(drop=True)\n",
        "y = y.drop(null_indices, axis=0).reset_index(drop=True)"
      ],
      "metadata": {
        "_uuid": "cd57f7e7-8fb5-4657-9fc3-80863160538a",
        "_cell_guid": "4ea33d42-5bae-4b19-b901-5593fc20bd8c",
        "id": "tcdDnKW5Musi",
        "jupyter": {
          "outputs_hidden": false
        },
        "trusted": true
      },
      "execution_count": null,
      "outputs": []
    },
    {
      "cell_type": "markdown",
      "source": [
        "# Remove null rows and reset index"
      ],
      "metadata": {
        "_uuid": "53cc2ab5-20b4-4601-9941-af379053e7f5",
        "_cell_guid": "d9f305e5-ddd0-4a1a-98a3-0356314049c6",
        "id": "rTiwdhiUzNaz"
      }
    },
    {
      "cell_type": "code",
      "source": [
        "null_indices = set()\n",
        "for i, words in tqdm(enumerate(X_raw)):\n",
        "    if not words:\n",
        "        null_indices.add(i)\n",
        "word_column_names = []\n",
        "for word_list in tqdm(X_raw):\n",
        "    for word in word_list:\n",
        "        if word not in word_column_names:\n",
        "            word_column_names.append(word)"
      ],
      "metadata": {
        "_uuid": "c36ea487-497a-43c5-99a8-6f4e8baaf985",
        "_cell_guid": "af75ee50-0679-471a-a409-896419ffaaba",
        "id": "5EROChHdNXfE",
        "jupyter": {
          "outputs_hidden": false
        },
        "trusted": true
      },
      "execution_count": null,
      "outputs": []
    },
    {
      "cell_type": "code",
      "source": [
        "mlb = MultiLabelBinarizer()\n",
        "\n",
        "X = pd.DataFrame(mlb.fit_transform(X_raw), columns=word_column_names)"
      ],
      "metadata": {
        "_uuid": "9bb3d16f-9aeb-42e4-aca8-099e4da69d58",
        "_cell_guid": "9c580752-08ef-438e-86d3-6f1e8c0abce0",
        "id": "P_BZVcZerJDy",
        "jupyter": {
          "outputs_hidden": false
        },
        "trusted": true
      },
      "execution_count": null,
      "outputs": []
    },
    {
      "cell_type": "code",
      "source": [
        "X"
      ],
      "metadata": {
        "_uuid": "7722eb86-2a2c-4bf9-b8e5-b5f55c1c7496",
        "_cell_guid": "edc1c6d3-c788-4c71-906d-ae95c6f75022",
        "id": "3A3mFLGwrK5y",
        "tags": [],
        "trusted": true
      },
      "execution_count": null,
      "outputs": []
    },
    {
      "cell_type": "code",
      "source": [
        "X_train, X_test, y_train, y_test = train_test_split(X, y, train_size=0.2, random_state=24)\n",
        "X.shape"
      ],
      "metadata": {
        "_uuid": "c4c95b7c-c216-49c4-b3c1-099cdecccaa6",
        "_cell_guid": "ec43dfda-12a5-49e9-a404-e06eef2c3c8b",
        "id": "U4ffWFh07N-j",
        "jupyter": {
          "outputs_hidden": false
        },
        "trusted": true
      },
      "execution_count": null,
      "outputs": []
    },
    {
      "cell_type": "markdown",
      "source": [
        "# **Create and Train Data Model**"
      ],
      "metadata": {
        "_uuid": "120b6e5f-c8c6-4760-8c61-b039688d949a",
        "_cell_guid": "4859f348-e44c-4053-ad1c-611ebe3145a5",
        "id": "S_WMQ-qFzNa0"
      }
    },
    {
      "cell_type": "code",
      "source": [
        "inputs = tf.keras.Input(shape=(500,))\n",
        "x = tf.keras.layers.Dense(64, activation='relu')(inputs)\n",
        "x = tf.keras.layers.Dense(64, activation='relu')(x)\n",
        "outputs = tf.keras.layers.Dense(1, activation='linear')(x)\n",
        "\n",
        "model = tf.keras.Model(inputs, outputs)\n",
        "\n",
        "\n",
        "model.compile(\n",
        "    optimizer='adam',\n",
        "    loss='mean_squared_logarithmic_error'\n",
        ")\n",
        "\n",
        "\n",
        "batch_size = 20\n",
        "epochs = 70\n",
        "\n",
        "history = model.fit(\n",
        "    X_train,\n",
        "    y_train,\n",
        "    validation_split=0.2,\n",
        "    batch_size=batch_size,\n",
        "    epochs=epochs,\n",
        "    callbacks=[tf.keras.callbacks.ReduceLROnPlateau()]\n",
        ")"
      ],
      "metadata": {
        "_uuid": "182d9a3c-380c-4cb4-b833-04ccf6c60f46",
        "_cell_guid": "8650a0d7-83e4-4391-9cc7-a7212aa90059",
        "id": "tB3bVmp57YJ8",
        "jupyter": {
          "source_hidden": true
        },
        "tags": [],
        "trusted": true
      },
      "execution_count": null,
      "outputs": []
    },
    {
      "cell_type": "code",
      "source": [
        "hist_fig = px.line(\n",
        "    history.history,\n",
        "    y=['loss', 'val_loss'],\n",
        "    labels={'x': \"Epoch\", 'y': \"Loss\"},\n",
        "    title=\"Loss Over Time\"\n",
        ")\n",
        "\n",
        "hist_fig.show()"
      ],
      "metadata": {
        "_uuid": "e5a0d2d5-ea40-440e-ad21-a166c996d7b8",
        "_cell_guid": "a472ffe5-68e8-407c-afe2-1b3b95d69aee",
        "id": "Gd_-7M5yzNa1",
        "tags": [],
        "trusted": true
      },
      "execution_count": null,
      "outputs": []
    },
    {
      "cell_type": "markdown",
      "source": [
        "# **Outcome Accuarcy**"
      ],
      "metadata": {
        "_uuid": "aab6b898-1303-4b72-bd41-74405c0ab08d",
        "_cell_guid": "96dda487-a019-4cde-9fa8-866ad1759ca1",
        "id": "eaERTLqxzNa1"
      }
    },
    {
      "cell_type": "code",
      "source": [
        "np.argmin(history.history['val_loss'])"
      ],
      "metadata": {
        "_uuid": "db4f3a39-8b9d-41db-be5f-9ffc3f3ba93b",
        "_cell_guid": "33ad0b6c-3deb-4e16-9856-1a67f7dfba9d",
        "jupyter": {
          "outputs_hidden": false
        },
        "id": "2XpgE3fTzNa1",
        "trusted": true
      },
      "execution_count": null,
      "outputs": []
    },
    {
      "cell_type": "code",
      "source": [
        "model.evaluate(X_test, y_test)"
      ],
      "metadata": {
        "_uuid": "ffacb74e-1965-4f34-a675-4298efb455e9",
        "_cell_guid": "abe2d608-67aa-4b45-89e9-ebcd7629c9b1",
        "jupyter": {
          "outputs_hidden": false
        },
        "id": "2k0YwJ6YzNa1",
        "trusted": true
      },
      "execution_count": null,
      "outputs": []
    },
    {
      "cell_type": "code",
      "source": [
        "y_preds = model.predict(X_test)\n",
        "y_test"
      ],
      "metadata": {
        "_uuid": "baa4bf96-1ba2-48cb-9966-aa284e5f5ee3",
        "_cell_guid": "4574587e-b65c-426d-b4fe-c37ffb727184",
        "jupyter": {
          "outputs_hidden": false
        },
        "id": "Novj9o-wzNa2",
        "trusted": true
      },
      "execution_count": null,
      "outputs": []
    },
    {
      "cell_type": "code",
      "source": [
        "#Determine Accuracy\n",
        "# 1 is excelent\n",
        "r2_score(y_test, model.predict(X_test))"
      ],
      "metadata": {
        "_uuid": "5d4c9581-2a34-4028-8233-f42cf173c413",
        "_cell_guid": "f79fa369-64fa-4d95-b9b2-926b8bde9841",
        "jupyter": {
          "outputs_hidden": false
        },
        "id": "IkkPlN6bzNa2",
        "trusted": true
      },
      "execution_count": null,
      "outputs": []
    },
    {
      "cell_type": "code",
      "source": [
        "pca = PCA(n_components=2)\n",
        "X_reduced = pd.DataFrame(pca.fit_transform(X), columns=[\"PC1\", \"PC2\"])\n",
        "word_lists = []\n",
        "\n",
        "for row in X_reduced.iterrows():\n",
        "    word_list = [word for word in X.columns if X.loc[row[0], word] == 1]\n",
        "    word_lists.append(word_list)\n",
        "X_reduced['keywords'] = word_lists\n",
        "X_reduced['keywords'] = X_reduced['keywords'].astype(str)"
      ],
      "metadata": {
        "_uuid": "089f9bf5-e2a8-4778-8c56-8bb8b77e0fa4",
        "_cell_guid": "6afb3b30-95c6-480a-a0a0-b4c7bae71d4e",
        "jupyter": {
          "outputs_hidden": false
        },
        "id": "A39t9ywGzNa2",
        "trusted": true
      },
      "execution_count": null,
      "outputs": []
    },
    {
      "cell_type": "markdown",
      "source": [
        "# **Non-Descriptive / Analytics**\n",
        "Tags are organized by highest average views of videos accosiated with this tag"
      ],
      "metadata": {
        "_uuid": "242c8387-1f59-47b8-ad9a-2c115d9adfb2",
        "_cell_guid": "aa3c3ad2-9323-4437-96ee-24add3aa6c73",
        "id": "IwuwGVnVzNa2"
      }
    },
    {
      "cell_type": "code",
      "source": [
        "# convert dictionary to dataframe\n",
        "word_count_df = pd.DataFrame(list(word_counts_sorted.items()), columns = ['tag','frequency'])\n",
        "word_count_df = word_count_df.head(500)\n",
        "word_count_df['tags'] = word_count_df.tag\n",
        "word_count_df = word_count_df.merge(train_df.explode('tags'),how='left')\n",
        "word_count_df['view_avg'] = word_count_df.groupby('tag')['view_count'].transform('mean')\n",
        "del word_count_df['tags']\n",
        "word_count_df.sort_values('view_avg')"
      ],
      "metadata": {
        "_uuid": "8d5254e3-902d-418b-a98c-0d3601a8fbad",
        "_cell_guid": "a64b8719-f936-445b-bd68-69184426f14a",
        "jupyter": {
          "outputs_hidden": false
        },
        "id": "IKxaeBMvzNa2",
        "trusted": true
      },
      "execution_count": null,
      "outputs": []
    },
    {
      "cell_type": "code",
      "source": [
        "corrMap = word_count_df.corr()\n",
        "category_fig  = go.Figure()\n",
        "category_fig.add_trace(\n",
        "    go.Heatmap(\n",
        "        x = corrMap.columns,\n",
        "        y = corrMap.index,\n",
        "        z = np.array(corrMap),\n",
        "        text=corrMap.values,\n",
        "        texttemplate='%{text:.2f}'\n",
        "    )\n",
        ")\n",
        "category_fig.show()"
      ],
      "metadata": {
        "_uuid": "b6f38c21-53be-4401-b95c-3523f1cd48d4",
        "_cell_guid": "c5a9b508-67e5-4fc7-bd32-377a2af4f576",
        "jupyter": {
          "outputs_hidden": false
        },
        "id": "2YSDS00vzNa2",
        "trusted": true
      },
      "execution_count": null,
      "outputs": []
    },
    {
      "cell_type": "code",
      "source": [
        "scatter_fig = px.scatter(\n",
        "    X_reduced,\n",
        "    x='PC1',\n",
        "    y='PC2',\n",
        "    trendline=\"ols\",\n",
        "    hover_data={\n",
        "        'PC1': False,\n",
        "        'PC2': False,\n",
        "        'keywords': True\n",
        "    }\n",
        ")\n",
        "scatter_fig.show(\"notebook\")"
      ],
      "metadata": {
        "_uuid": "df4fdf63-e03a-43bd-b099-5490166d9ffe",
        "_cell_guid": "c86162ed-3c00-4a40-b59c-da9448a94109",
        "jupyter": {
          "outputs_hidden": false
        },
        "id": "tFE_BelQzNa3",
        "trusted": true
      },
      "execution_count": null,
      "outputs": []
    },
    {
      "cell_type": "markdown",
      "source": [
        "# **Descriptive Methods / Data Visualization**"
      ],
      "metadata": {
        "_uuid": "891a2031-8bb8-41f6-ae96-4cf0eccf1438",
        "_cell_guid": "f31e836b-8974-4760-aed1-626754ea0e8f",
        "id": "9f4AGZZJzNa3"
      }
    },
    {
      "cell_type": "code",
      "source": [
        "word_count_fig  = px.scatter(word_count_df, x=\"view_avg\",y=\"tag\")\n",
        "word_count_fig.show()"
      ],
      "metadata": {
        "_uuid": "4c078ac3-95ea-4b4a-8720-40bd47e68168",
        "_cell_guid": "1d0f1905-d4d3-499e-bda3-b104a629e653",
        "jupyter": {
          "outputs_hidden": false
        },
        "id": "H6I6pz8kzNa3",
        "trusted": true
      },
      "execution_count": null,
      "outputs": []
    },
    {
      "cell_type": "code",
      "source": [
        "wc = WordCloud().generate_from_frequencies(word_counts_sorted)\n",
        "\n",
        "plt.figure(figsize=(100,20))\n",
        "plt.subplot(1,2,1)\n",
        "plt.imshow(wc)"
      ],
      "metadata": {
        "_uuid": "9ebd3cf5-b506-495b-9330-8f5d9c76dadb",
        "_cell_guid": "8413d0c8-6cd6-4d78-a703-58130af7c4e6",
        "jupyter": {
          "outputs_hidden": false
        },
        "id": "yELIDgo6zNa3",
        "trusted": true
      },
      "execution_count": null,
      "outputs": []
    },
    {
      "cell_type": "markdown",
      "source": [
        "# **Interactive Widget**"
      ],
      "metadata": {
        "id": "bepJcNxbzNa3"
      }
    },
    {
      "cell_type": "code",
      "source": [
        "# importing the module\n",
        "import json\n",
        " \n",
        "# Opening JSON file\n",
        "\n",
        "with open('US_category_id.json') as json_file:\n",
        "    categories = json.load(json_file)[\"items\"]\n",
        "cat_dict = {}\n",
        "for cat in categories:\n",
        "    cat_dict[int(cat[\"id\"])] = cat[\"snippet\"][\"title\"]\n",
        "word_count_df['category_name'] = word_count_df['categoryId'].map(cat_dict)\n",
        "word_count_df"
      ],
      "metadata": {
        "id": "zr72wHEXzNa4",
        "trusted": true
      },
      "execution_count": null,
      "outputs": []
    },
    {
      "cell_type": "code",
      "source": [
        "categors = list(cat_dict.values())\n",
        "# category dropdown\n",
        "cat_drop= widgets.SelectMultiple(\n",
        "    options= categors ,\n",
        "    #rows=10,\n",
        "    description='Video Categories',\n",
        "    disabled=False\n",
        ")\n",
        "\n",
        "#tag 1\n",
        "tag1_filter = [] \n",
        "for i in word_count_df.loc[word_count_df['category_name'] == cat_drop.value]: \n",
        "    if i not in result: \n",
        "        result.append(i)\n",
        "tag1 = widgets.SelectMultiple(\n",
        "    options= tag1_filter,\n",
        "    #rows=10,\n",
        "    description='Video Categories',\n",
        "    disabled=False\n",
        ")\n",
        "#tag 2\n",
        "tag2_filter = tag1_filter \n",
        "tag2_filter.remove(tag1.value)\n",
        "tag2 = widgets.SelectMultiple(\n",
        "    options= tag2_filter,\n",
        "    #rows=10,\n",
        "    description='Video Categories',\n",
        "    disabled=False\n",
        ")"
      ],
      "metadata": {
        "id": "3hPKIyQ0zNa4",
        "trusted": true
      },
      "execution_count": null,
      "outputs": []
    },
    {
      "cell_type": "code",
      "source": [
        ""
      ],
      "metadata": {
        "id": "LxFDQO6XzQ6q"
      },
      "execution_count": null,
      "outputs": []
    },
    {
      "cell_type": "code",
      "source": [
        ""
      ],
      "metadata": {
        "id": "NhWJ5LZD4j2J"
      },
      "execution_count": null,
      "outputs": []
    }
  ]
}